{
 "cells": [
  {
   "cell_type": "markdown",
   "metadata": {},
   "source": [
    "### CS556-Robotics\n",
    "### Assignment 4\n",
    "### Due: Monday November 27, 2019."
   ]
  },
  {
   "cell_type": "code",
   "execution_count": 1,
   "metadata": {},
   "outputs": [],
   "source": [
    "import sympy as sp"
   ]
  },
  {
   "cell_type": "markdown",
   "metadata": {},
   "source": [
    "---\n",
    "### Problem 1\n",
    "#### A 2-link manipulator has a revolute joint 1 with the angle and followed by a prismatic joint with the value q. The end effector position is given by\n",
    "\n",
    "```x = acos(theta) - q*sin(theta)```\n",
    "\n",
    "```y = asin(theta) + q*cos(theta)```\n",
    "\n",
    "#### Find the Jacobian matrix of the robot, and determine its singularities."
   ]
  },
  {
   "cell_type": "code",
   "execution_count": 2,
   "metadata": {},
   "outputs": [
    {
     "name": "stdout",
     "output_type": "stream",
     "text": [
      "jacobian matrix:\n"
     ]
    },
    {
     "data": {
      "text/latex": [
       "$\\displaystyle \\left[\\begin{matrix}- q \\cos{\\left(t \\right)} - \\frac{1}{\\sqrt{1 - t^{2}}} & - \\sin{\\left(t \\right)}\\\\- q \\sin{\\left(t \\right)} + \\frac{1}{\\sqrt{1 - t^{2}}} & \\cos{\\left(t \\right)}\\end{matrix}\\right]$"
      ],
      "text/plain": [
       "Matrix([\n",
       "[-q*cos(t) - 1/sqrt(1 - t**2), -sin(t)],\n",
       "[-q*sin(t) + 1/sqrt(1 - t**2),  cos(t)]])"
      ]
     },
     "metadata": {},
     "output_type": "display_data"
    },
    {
     "name": "stdout",
     "output_type": "stream",
     "text": [
      "singularities:\n"
     ]
    },
    {
     "data": {
      "text/plain": [
       "[(t, -sqrt(2)*cos(t + pi/4)/sqrt(1 - t**2))]"
      ]
     },
     "metadata": {},
     "output_type": "display_data"
    }
   ],
   "source": [
    "# define symbolic variables\n",
    "q,t = sp.symbols('q t')\n",
    "# define forward kinematic equations\n",
    "x = sp.acos(t) - q*sp.sin(t)\n",
    "y = sp.asin(t) + q*sp.cos(t)\n",
    "# define intermediate diff varialbes\n",
    "_x11 = sp.diff(x, t)\n",
    "_x12 = sp.diff(x, q)\n",
    "_y21 = sp.diff(y, t)\n",
    "_y22 = sp.diff(y, q)\n",
    "# define jacobian matrix\n",
    "p1_j = sp.Matrix([\n",
    "    [_x11, _x12],\n",
    "    [_y21, _y22]\n",
    "])\n",
    "print(\"jacobian matrix:\")\n",
    "display(sp.simplify(p1_j))\n",
    "# determine singularities\n",
    "# find determinate of jacobian\n",
    "p1_j_det = sp.det(p1_j)\n",
    "# solve for singularities\n",
    "p1_singularities = sp.solve(p1_j_det, [t, q])\n",
    "print(\"singularities:\")\n",
    "display(sp.simplify(p1_singularities))"
   ]
  },
  {
   "cell_type": "markdown",
   "metadata": {},
   "source": [
    "---\n",
    "### Problem 2\n",
    "#### A manipulator has the following Jacobian matrix.\n",
    "\n",
    "```J = [ -l1*s1, -l2*s12, -l2*s12*l1*c1, l2*c12*l2*c12 ]```\n",
    "\n",
    "#### Find the joint torques such that the manipulator applies a static force of 10  newton-meter in the x direction at the end-effector. "
   ]
  },
  {
   "cell_type": "code",
   "execution_count": 3,
   "metadata": {},
   "outputs": [
    {
     "name": "stdout",
     "output_type": "stream",
     "text": [
      "jacobian matrix:\n"
     ]
    },
    {
     "data": {
      "text/latex": [
       "$\\displaystyle \\left[\\begin{matrix}- l_{1} \\sin{\\left(t_{1} \\right)} - l_{2} \\sin{\\left(t_{1} + t_{2} \\right)} & - l_{2} \\sin{\\left(t_{1} + t_{2} \\right)}\\\\l_{1} \\cos{\\left(t_{1} \\right)} + l_{2} \\cos{\\left(t_{1} + t_{2} \\right)} & l_{2} \\cos{\\left(t_{1} + t_{2} \\right)}\\end{matrix}\\right]$"
      ],
      "text/plain": [
       "Matrix([\n",
       "[-l1*sin(t1) - l2*sin(t1 + t2), -l2*sin(t1 + t2)],\n",
       "[ l1*cos(t1) + l2*cos(t1 + t2),  l2*cos(t1 + t2)]])"
      ]
     },
     "metadata": {},
     "output_type": "display_data"
    },
    {
     "name": "stdout",
     "output_type": "stream",
     "text": [
      "joint torques:\n"
     ]
    },
    {
     "data": {
      "text/plain": [
       "[(pi, -acos(-l1/l2) + 2*pi), (pi, acos(-l1/l2))]"
      ]
     },
     "metadata": {},
     "output_type": "display_data"
    }
   ],
   "source": [
    "# define the symbols we'll need\n",
    "fx, fy, t1, t2, l1, l2 = sp.symbols('fx fy t1 t2 l1 l2')\n",
    "\n",
    "# create jacobian matrix\n",
    "p2_jacobian = sp.Matrix([\n",
    "    [(-l1 * sp.sin(t1)) - (l2 * sp.sin(t1+t2)), -l2 * sp.sin(t1+t2)],\n",
    "    [(l1* sp.cos(t1))+(l2 * sp.cos(t1+t2)), (l2*sp.cos(t1+t2))]\n",
    "])\n",
    "print('jacobian matrix:')\n",
    "display(p2_jacobian)\n",
    "\n",
    "# create force matrix which\n",
    "# has (10 newton meters) in x component\n",
    "p2_force = sp.Matrix([10,0])\n",
    "\n",
    "# create a torque matric that\n",
    "# we'll solve for\n",
    "p2_torque = sp.Matrix([t1,t2])\n",
    "\n",
    "# solve for the joint torques\n",
    "print('joint torques:')\n",
    "p2_solved_torques = sp.simplify(\n",
    "    sp.solve(p2_jacobian * p2_force, p2_torque)\n",
    ")\n",
    "display(p2_solved_torques)"
   ]
  },
  {
   "cell_type": "markdown",
   "metadata": {},
   "source": [
    "---\n",
    "### Problem 3\n",
    "#### Consider the first three links of the Puma 560\n",
    "\n",
    "``` x=c1(a2c2+a3c23-d4s23)-d3s1 ```\n",
    "\n",
    "``` y=s1(a2c2+a3c23-d4s23)+d3c1 ```\n",
    "\n",
    "``` z=-a3s23-a2s2-d4c23 ```\n",
    "\n",
    "#### Where the parameters are a2=d4=0.432, a3=-0.203, d3=-0.093. \n",
    "\n",
    "#### a. First find the Jacobian matrix, and then the manipulators singularities. Note that the singularities may not have particular numerical values of joint angles, but a relationship between (1,2,3) may constitute the locus singularities (for example the singularities may happen when c1+s2=1). Use the following joint ranges for plotting: 1=(-160 to+160) , 2=(-215 to+35) , 3=-45 to+225.\n",
    "    \n",
    "#### b. Find the locus of singularities in (1,2,3) in the joint space, and plot them. Use Matlab to do this problem. "
   ]
  },
  {
   "cell_type": "code",
   "execution_count": null,
   "metadata": {},
   "outputs": [
    {
     "name": "stdout",
     "output_type": "stream",
     "text": [
      "jacobian matrix:\n"
     ]
    },
    {
     "data": {
      "text/latex": [
       "$\\displaystyle \\left[\\begin{matrix}- d_{3} \\cos{\\left(t_{1} \\right)} - \\left(a_{2} \\cos{\\left(t_{2} \\right)} + a_{3} \\cos{\\left(t_{2} + t_{3} \\right)} - d_{4} \\sin{\\left(t_{2} + t_{3} \\right)}\\right) \\sin{\\left(t_{1} \\right)} & - \\left(a_{2} \\sin{\\left(t_{2} \\right)} + a_{3} \\sin{\\left(t_{2} + t_{3} \\right)} + d_{4} \\cos{\\left(t_{2} + t_{3} \\right)}\\right) \\cos{\\left(t_{1} \\right)} & - \\left(a_{3} \\sin{\\left(t_{2} + t_{3} \\right)} + d_{4} \\cos{\\left(t_{2} + t_{3} \\right)}\\right) \\cos{\\left(t_{1} \\right)}\\\\- d_{3} \\sin{\\left(t_{1} \\right)} + \\left(a_{2} \\cos{\\left(t_{2} \\right)} + a_{3} \\cos{\\left(t_{2} + t_{3} \\right)} + d_{4} \\sin{\\left(t_{2} + t_{3} \\right)}\\right) \\cos{\\left(t_{1} \\right)} & \\left(- a_{2} \\sin{\\left(t_{2} \\right)} - a_{3} \\sin{\\left(t_{2} + t_{3} \\right)} + d_{4} \\cos{\\left(t_{2} + t_{3} \\right)}\\right) \\sin{\\left(t_{1} \\right)} & \\left(- a_{3} \\sin{\\left(t_{2} + t_{3} \\right)} + d_{4} \\cos{\\left(t_{2} + t_{3} \\right)}\\right) \\sin{\\left(t_{1} \\right)}\\\\0 & - a_{2} \\cos{\\left(t_{2} \\right)} - a_{3} \\cos{\\left(t_{2} + t_{3} \\right)} + d_{4} \\sin{\\left(t_{2} + t_{3} \\right)} & - a_{3} \\cos{\\left(t_{2} + t_{3} \\right)} + d_{4} \\sin{\\left(t_{2} + t_{3} \\right)}\\end{matrix}\\right]$"
      ],
      "text/plain": [
       "Matrix([\n",
       "[-d3*cos(t1) - (a2*cos(t2) + a3*cos(t2 + t3) - d4*sin(t2 + t3))*sin(t1), -(a2*sin(t2) + a3*sin(t2 + t3) + d4*cos(t2 + t3))*cos(t1), -(a3*sin(t2 + t3) + d4*cos(t2 + t3))*cos(t1)],\n",
       "[-d3*sin(t1) + (a2*cos(t2) + a3*cos(t2 + t3) + d4*sin(t2 + t3))*cos(t1), (-a2*sin(t2) - a3*sin(t2 + t3) + d4*cos(t2 + t3))*sin(t1), (-a3*sin(t2 + t3) + d4*cos(t2 + t3))*sin(t1)],\n",
       "[                                                                     0,           -a2*cos(t2) - a3*cos(t2 + t3) + d4*sin(t2 + t3),           -a3*cos(t2 + t3) + d4*sin(t2 + t3)]])"
      ]
     },
     "metadata": {},
     "output_type": "display_data"
    },
    {
     "data": {
      "text/latex": [
       "$\\displaystyle - \\left(- a_{3} \\sin{\\left(t_{2} + t_{3} \\right)} + d_{4} \\cos{\\left(t_{2} + t_{3} \\right)}\\right) \\left(- d_{3} \\cos{\\left(t_{1} \\right)} - \\left(a_{2} \\cos{\\left(t_{2} \\right)} + a_{3} \\cos{\\left(t_{2} + t_{3} \\right)} - d_{4} \\sin{\\left(t_{2} + t_{3} \\right)}\\right) \\sin{\\left(t_{1} \\right)}\\right) \\left(- a_{2} \\cos{\\left(t_{2} \\right)} - a_{3} \\cos{\\left(t_{2} + t_{3} \\right)} + d_{4} \\sin{\\left(t_{2} + t_{3} \\right)}\\right) \\sin{\\left(t_{1} \\right)} - \\left(a_{3} \\sin{\\left(t_{2} + t_{3} \\right)} + d_{4} \\cos{\\left(t_{2} + t_{3} \\right)}\\right) \\left(- d_{3} \\sin{\\left(t_{1} \\right)} + \\left(a_{2} \\cos{\\left(t_{2} \\right)} + a_{3} \\cos{\\left(t_{2} + t_{3} \\right)} + d_{4} \\sin{\\left(t_{2} + t_{3} \\right)}\\right) \\cos{\\left(t_{1} \\right)}\\right) \\left(- a_{2} \\cos{\\left(t_{2} \\right)} - a_{3} \\cos{\\left(t_{2} + t_{3} \\right)} + d_{4} \\sin{\\left(t_{2} + t_{3} \\right)}\\right) \\cos{\\left(t_{1} \\right)} + \\left(- a_{3} \\cos{\\left(t_{2} + t_{3} \\right)} + d_{4} \\sin{\\left(t_{2} + t_{3} \\right)}\\right) \\left(- d_{3} \\sin{\\left(t_{1} \\right)} + \\left(a_{2} \\cos{\\left(t_{2} \\right)} + a_{3} \\cos{\\left(t_{2} + t_{3} \\right)} + d_{4} \\sin{\\left(t_{2} + t_{3} \\right)}\\right) \\cos{\\left(t_{1} \\right)}\\right) \\left(a_{2} \\sin{\\left(t_{2} \\right)} + a_{3} \\sin{\\left(t_{2} + t_{3} \\right)} + d_{4} \\cos{\\left(t_{2} + t_{3} \\right)}\\right) \\cos{\\left(t_{1} \\right)} + \\left(- a_{3} \\cos{\\left(t_{2} + t_{3} \\right)} + d_{4} \\sin{\\left(t_{2} + t_{3} \\right)}\\right) \\left(- d_{3} \\cos{\\left(t_{1} \\right)} - \\left(a_{2} \\cos{\\left(t_{2} \\right)} + a_{3} \\cos{\\left(t_{2} + t_{3} \\right)} - d_{4} \\sin{\\left(t_{2} + t_{3} \\right)}\\right) \\sin{\\left(t_{1} \\right)}\\right) \\left(- a_{2} \\sin{\\left(t_{2} \\right)} - a_{3} \\sin{\\left(t_{2} + t_{3} \\right)} + d_{4} \\cos{\\left(t_{2} + t_{3} \\right)}\\right) \\sin{\\left(t_{1} \\right)}$"
      ],
      "text/plain": [
       "-(-a3*sin(t2 + t3) + d4*cos(t2 + t3))*(-d3*cos(t1) - (a2*cos(t2) + a3*cos(t2 + t3) - d4*sin(t2 + t3))*sin(t1))*(-a2*cos(t2) - a3*cos(t2 + t3) + d4*sin(t2 + t3))*sin(t1) - (a3*sin(t2 + t3) + d4*cos(t2 + t3))*(-d3*sin(t1) + (a2*cos(t2) + a3*cos(t2 + t3) + d4*sin(t2 + t3))*cos(t1))*(-a2*cos(t2) - a3*cos(t2 + t3) + d4*sin(t2 + t3))*cos(t1) + (-a3*cos(t2 + t3) + d4*sin(t2 + t3))*(-d3*sin(t1) + (a2*cos(t2) + a3*cos(t2 + t3) + d4*sin(t2 + t3))*cos(t1))*(a2*sin(t2) + a3*sin(t2 + t3) + d4*cos(t2 + t3))*cos(t1) + (-a3*cos(t2 + t3) + d4*sin(t2 + t3))*(-d3*cos(t1) - (a2*cos(t2) + a3*cos(t2 + t3) - d4*sin(t2 + t3))*sin(t1))*(-a2*sin(t2) - a3*sin(t2 + t3) + d4*cos(t2 + t3))*sin(t1)"
      ]
     },
     "metadata": {},
     "output_type": "display_data"
    }
   ],
   "source": [
    "# define symbolic variables\n",
    "a2, a3, d3, d4, t1, t2, t3 = \\\n",
    "    sp.symbols('a2 a3 d3 d4 t1 t2 t3')\n",
    "\n",
    "# define forward kinematic equations\n",
    "x = (sp.cos(t1)*((a2*sp.cos(t2))+(a3*sp.cos(t2+t3))-(d4*sp.sin(t2+t3))))-(d3*sp.sin(t1))\n",
    "y = (sp.sin(t1)*((a2*sp.cos(t2))+(a3*sp.cos(t2+t3))+(d4*sp.sin(t2+t3))))+(d3*sp.cos(t1))\n",
    "z = (-a3*sp.sin(t2+t3))-(a2*sp.sin(t2))-(d4*sp.cos(t2+t3))\n",
    "\n",
    "# # substitute in defined variables\n",
    "# x = x.subs({a2:0.432, a3:-0.203, d3:-0.093, d4: 0.432})\n",
    "# y = y.subs({a2:0.432, a3:-0.203, d3:-0.093, d4: 0.432})\n",
    "# z = z.subs({a2:0.432, a3:-0.203, d3:-0.093, d4: 0.432})\n",
    "\n",
    "# define intermediate diff varialbes\n",
    "_x11 = sp.simplify(sp.diff(x, t1))\n",
    "_x12 = sp.simplify(sp.diff(x, t2))\n",
    "_x13 = sp.simplify(sp.diff(x, t3))\n",
    "_y21 = sp.simplify(sp.diff(y, t1))\n",
    "_y22 = sp.simplify(sp.diff(y, t2))\n",
    "_y23 = sp.simplify(sp.diff(y, t3))\n",
    "_z31 = sp.simplify(sp.diff(z, t1))\n",
    "_z32 = sp.simplify(sp.diff(z, t2))\n",
    "_z33 = sp.simplify(sp.diff(z, t3))\n",
    "\n",
    "# define jacobian matrix\n",
    "p3_j = sp.Matrix([\n",
    "    [_x11, _x12, _x13],\n",
    "    [_y21, _y22, _y23],\n",
    "    [_z31, _z32, _z33]\n",
    "])\n",
    "print(\"jacobian matrix:\")\n",
    "display(sp.simplify(p3_j))\n",
    "\n",
    "# determine singularities\n",
    "# find determinate of jacobian\n",
    "p3_j_det = sp.det(p3_j)\n",
    "display(p3_j_det)\n",
    "\n",
    "# solve for singularities\n",
    "p1_t1_s = sp.solve(p3_j_det, t1)\n",
    "print(\"t1 singularities:\")\n",
    "display(sp.simplify(p1_t1_s))"
   ]
  },
  {
   "cell_type": "code",
   "execution_count": 55,
   "metadata": {},
   "outputs": [
    {
     "data": {
      "text/plain": [
       "[]"
      ]
     },
     "metadata": {},
     "output_type": "display_data"
    }
   ],
   "source": [
    "import plotly.graph_objects as go\n",
    "import numpy as np\n",
    "\n",
    "# create theta inputs\n",
    "TRIALS = 100000\n",
    "\n",
    "i1 = np.radians(np.random.uniform(-160, 160, TRIALS))\n",
    "i2 = np.radians(np.random.uniform(-215,  35, TRIALS))\n",
    "i3 = np.radians(np.random.uniform( -45, 255, TRIALS))\n",
    "\n",
    "o_x = sp.lambdify((a2,a3,d3,d4,t1,t2,t3), fk_x, \"numpy\")\n",
    "o_y = sp.lambdify((a2,a3,d3,d4,t1,t2,t3), fk_y, \"numpy\")\n",
    "o_z = sp.lambdify((a2,a3,d3,d4,t1,t2,t3), fk_z, \"numpy\")\n",
    "o_j = sp.lambdify((a2,a3,d3,d4,t1,t2,t3), p3_j_det, \"numpy\")\n",
    "\n",
    "# run theta inputs through\n",
    "# kinematic equations\n",
    "ooj = [ o_j(0.432, -0.203, -0.093, 0.432, i1[i], i2[i], i3[i]) for i in range(TRIALS) ]\n",
    "\n",
    "display([ i for i in ooj if 0.05 < i < 0.05 ])\n",
    "\n",
    "# oox = [ o_x(0.432, -0.203, -0.093, 0.432, i1[i], i2[i], i3[i]) for i in range(TRIALS)]\n",
    "# ooy = [ o_y(0.432, -0.203, -0.093, 0.432, i1[i], i2[i], i3[i]) for i in range(TRIALS)]\n",
    "# ooz = [ o_z(0.432, -0.203, -0.093, 0.432, i1[i], i2[i], i3[i]) for i in range(TRIALS)]\n",
    "\n",
    "\n",
    "\n",
    "# fig = go.Figure(\n",
    "#     data=[\n",
    "#         go.Scatter3d(\n",
    "#             x=oox, \n",
    "#             y=ooy, \n",
    "#             z=ooz, \n",
    "#             mode='markers',\n",
    "#         )\n",
    "#     ]\n",
    "# )\n",
    "# fig.show()"
   ]
  },
  {
   "cell_type": "markdown",
   "metadata": {},
   "source": [
    "---\n",
    "### Problem 4\n",
    "#### Consider robot trajectory generation using a two-segment spline where each segment is a cubic polynomial (see equation 7.10 of the text). \n",
    "\n",
    "#### a. Sketch the graphs of position, velocity and acceleration for initial angle 0=5.0 deg, the via-point angle v=15.0 deg. and final angle f=40.0 deg. Assume that the duration of each segment is 1.0 sec (i.e. total duration of  2 sec), and the velocity at the via point is to be 17.5 deg/sec. \n",
    "    \n",
    "#### b. Use the cycloid trajectory, with the same initial 0=5.0 deg and final f=40.0 deg  joint angles, and the total duration of 2 sec. Compare the maximum velocity and acceleration with the two segment cubic polynomial in (a), which trajectory is better and why?"
   ]
  },
  {
   "cell_type": "markdown",
   "metadata": {},
   "source": [
    "---\n",
    "### Problem 5\n",
    "#### Consider the genetic algorithm trajectory tracking for manipulators, and answer the following questions:\n",
    "\n",
    "Refrences: Tarokh, M. & Zhang, X. J Intell Robot Syst (2014) 74: 697. https://doi.org/10.1007/s10846-013-9860-4\n",
    "\n",
    "#### a. What are crossover and mutation in the context of manipulator trajectory tracking?\n",
    "\n",
    "Given an artificial chromosome of L bits where each bit maps to a feature in the problem domain, the crossover operator exchanges parts of two randomly selected chromosomes, producing two distinct offsprings. The mutation operator changes bits in the chromosome in random locations in the chromosome.\n",
    "\n",
    "In the context of manipulator trajectory tracking, chromosomes represent joint angle vectors and individual angles represent genes in the chromosome.\n",
    "    \n",
    "#### b. What are the optimization and constraints, and how are they treated/taken care of?\n",
    "\n",
    "The optimal real-time trajectory tracking problem can be stated as follows: \n",
    "\n",
    "Given the desired workspace posture trajectory u (t) and the start configuration described by the joint angle vector s, compute the next joint angle vectors ((j + 1) t) ≡ (j + 1), j = 0, 1,...,m − 1 such that:\n",
    "\n",
    "(a) Constraint (1) is satisfied.\n",
    "\n",
    "(b) The optimization objective (2) is achieved.\n",
    "\n",
    "(c) The position and orientation tracking errors εp and εo are within the acceptable ranges. \n",
    "\n",
    "(d) The joint velocities and accelerations are within physically acceptable ranges.\n",
    "\n",
    "(e) The time required to compute the next joint angle vector (j + 1) is no more than t = T/m to enable real time operation.\n",
    "    \n",
    "#### c. What is the definition of fitness function in trajectory tracking? \n",
    "\n",
    "The definition for the fitness function in trajectory tracking is based off of the amount of error in the current generation. Specifically the fintness level is computed by compairing the end-effector's trajectory to the actual desired trajectory.\n",
    "    \n",
    "#### d. Genetic algorithm solutions are generally time consuming. How are they used to achieve real-time in trajectory tracking?\n",
    "\n",
    "\"In order to achieve real time tracking, special provisions are made so that only an appropriate small region in the joint space is searched. The tracking problem is solved at the position level rather the then velocity level. As such the proposed method does not use the\n",
    "manipulator Jacobian inverse or pseudo-inverse matrix and is shown to be free from problems such as excessive joint velocities due to singularities.\" (Tarikh, Zang, pg. 1)\n",
    "    \n",
    "#### e. List three features of genetic algorithm for trajectory tracking that are not achievable using the Jacobian method?\n",
    "\n",
    "1. Less prone to excessive joint velocities due to singularities\n",
    "\n",
    "2. any simple or complex constraint or optimization objective can be specified in the genetic algorithm formulation\n",
    "\n",
    "3. Real-time trajectory functions (very fast)"
   ]
  }
 ],
 "metadata": {
  "kernelspec": {
   "display_name": "Python 3",
   "language": "python",
   "name": "python3"
  },
  "language_info": {
   "codemirror_mode": {
    "name": "ipython",
    "version": 3
   },
   "file_extension": ".py",
   "mimetype": "text/x-python",
   "name": "python",
   "nbconvert_exporter": "python",
   "pygments_lexer": "ipython3",
   "version": "3.7.3"
  }
 },
 "nbformat": 4,
 "nbformat_minor": 2
}
