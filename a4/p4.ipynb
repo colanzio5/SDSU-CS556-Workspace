{
 "cells": [
  {
   "cell_type": "markdown",
   "metadata": {},
   "source": [
    "### Problem 4\n",
    "**Language: Python3**\n",
    "\n",
    "Consider robot trajectory generation using a two-segment spline where each segment is a cubic polynomial (see equation 7.10 of the text). \n",
    "\n",
    "a. Sketch the graphs of position, velocity and acceleration for initial angle 0=5.0 deg, the via-point angle v=15.0 deg. and final angle f=40.0 deg. Assume that the duration of each segment is 1.0 sec (i.e. total duration of  2 sec), and the velocity at the via point is to be 17.5 deg/sec. \n",
    "    \n",
    "b. Use the cycloid trajectory, with the same initial 0=5.0 deg and final f=40.0 deg  joint angles, and the total duration of 2 sec. Compare the maximum velocity and acceleration with the two segment cubic polynomial in (a), which trajectory is better and why?"
   ]
  },
  {
   "cell_type": "markdown",
   "metadata": {},
   "source": [
    "```\n",
    "first, second, and third order derivatives for cycloid\n",
    "\n",
    "theta = 5 + ((t(:)/2) - sin(2*pi*t(:)/2)/(2*pi))*(40-5);\n",
    "theta_prime_1 = ((1/2) - cos(2*pi*t(:)/2)/2)*(40-5);\n",
    "theta_prime_2 = (sin(2*pi*t(:)/2)*2*pi/(2^2))*(40-5);\n",
    "theta_prime_3 = (cos(2*pi*t(:)/2)*((2*pi)^2)/(2^3))*(40-5);\n",
    "```"
   ]
  }
 ],
 "metadata": {
  "kernelspec": {
   "display_name": "Python 3",
   "language": "python",
   "name": "python3"
  },
  "language_info": {
   "codemirror_mode": {
    "name": "ipython",
    "version": 3
   },
   "file_extension": ".py",
   "mimetype": "text/x-python",
   "name": "python",
   "nbconvert_exporter": "python",
   "pygments_lexer": "ipython3",
   "version": "3.7.3"
  }
 },
 "nbformat": 4,
 "nbformat_minor": 2
}
